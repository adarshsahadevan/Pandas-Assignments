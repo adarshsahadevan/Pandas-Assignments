{
 "cells": [
  {
   "cell_type": "markdown",
   "id": "d380c3bf",
   "metadata": {},
   "source": [
    "# Pandas exercise 1"
   ]
  },
  {
   "cell_type": "markdown",
   "id": "e1c6ecef",
   "metadata": {},
   "source": [
    "#### 1.Load the \"titanic\" dataset and display the first 5 rows."
   ]
  },
  {
   "cell_type": "code",
   "execution_count": 31,
   "id": "e3322701",
   "metadata": {},
   "outputs": [
    {
     "data": {
      "text/html": [
       "<div>\n",
       "<style scoped>\n",
       "    .dataframe tbody tr th:only-of-type {\n",
       "        vertical-align: middle;\n",
       "    }\n",
       "\n",
       "    .dataframe tbody tr th {\n",
       "        vertical-align: top;\n",
       "    }\n",
       "\n",
       "    .dataframe thead th {\n",
       "        text-align: right;\n",
       "    }\n",
       "</style>\n",
       "<table border=\"1\" class=\"dataframe\">\n",
       "  <thead>\n",
       "    <tr style=\"text-align: right;\">\n",
       "      <th></th>\n",
       "      <th>PassengerId</th>\n",
       "      <th>Survived</th>\n",
       "      <th>Pclass</th>\n",
       "      <th>Name</th>\n",
       "      <th>Sex</th>\n",
       "      <th>Age</th>\n",
       "      <th>SibSp</th>\n",
       "      <th>Parch</th>\n",
       "      <th>Ticket</th>\n",
       "      <th>Fare</th>\n",
       "      <th>Cabin</th>\n",
       "      <th>Embarked</th>\n",
       "    </tr>\n",
       "  </thead>\n",
       "  <tbody>\n",
       "    <tr>\n",
       "      <th>0</th>\n",
       "      <td>1</td>\n",
       "      <td>0</td>\n",
       "      <td>3</td>\n",
       "      <td>Braund, Mr. Owen Harris</td>\n",
       "      <td>male</td>\n",
       "      <td>22.0</td>\n",
       "      <td>1</td>\n",
       "      <td>0</td>\n",
       "      <td>A/5 21171</td>\n",
       "      <td>7.2500</td>\n",
       "      <td>NaN</td>\n",
       "      <td>S</td>\n",
       "    </tr>\n",
       "    <tr>\n",
       "      <th>1</th>\n",
       "      <td>2</td>\n",
       "      <td>1</td>\n",
       "      <td>1</td>\n",
       "      <td>Cumings, Mrs. John Bradley (Florence Briggs Th...</td>\n",
       "      <td>female</td>\n",
       "      <td>38.0</td>\n",
       "      <td>1</td>\n",
       "      <td>0</td>\n",
       "      <td>PC 17599</td>\n",
       "      <td>71.2833</td>\n",
       "      <td>C85</td>\n",
       "      <td>C</td>\n",
       "    </tr>\n",
       "    <tr>\n",
       "      <th>2</th>\n",
       "      <td>3</td>\n",
       "      <td>1</td>\n",
       "      <td>3</td>\n",
       "      <td>Heikkinen, Miss. Laina</td>\n",
       "      <td>female</td>\n",
       "      <td>26.0</td>\n",
       "      <td>0</td>\n",
       "      <td>0</td>\n",
       "      <td>STON/O2. 3101282</td>\n",
       "      <td>7.9250</td>\n",
       "      <td>NaN</td>\n",
       "      <td>S</td>\n",
       "    </tr>\n",
       "    <tr>\n",
       "      <th>3</th>\n",
       "      <td>4</td>\n",
       "      <td>1</td>\n",
       "      <td>1</td>\n",
       "      <td>Futrelle, Mrs. Jacques Heath (Lily May Peel)</td>\n",
       "      <td>female</td>\n",
       "      <td>35.0</td>\n",
       "      <td>1</td>\n",
       "      <td>0</td>\n",
       "      <td>113803</td>\n",
       "      <td>53.1000</td>\n",
       "      <td>C123</td>\n",
       "      <td>S</td>\n",
       "    </tr>\n",
       "    <tr>\n",
       "      <th>4</th>\n",
       "      <td>5</td>\n",
       "      <td>0</td>\n",
       "      <td>3</td>\n",
       "      <td>Allen, Mr. William Henry</td>\n",
       "      <td>male</td>\n",
       "      <td>35.0</td>\n",
       "      <td>0</td>\n",
       "      <td>0</td>\n",
       "      <td>373450</td>\n",
       "      <td>8.0500</td>\n",
       "      <td>NaN</td>\n",
       "      <td>S</td>\n",
       "    </tr>\n",
       "  </tbody>\n",
       "</table>\n",
       "</div>"
      ],
      "text/plain": [
       "   PassengerId  Survived  Pclass  \\\n",
       "0            1         0       3   \n",
       "1            2         1       1   \n",
       "2            3         1       3   \n",
       "3            4         1       1   \n",
       "4            5         0       3   \n",
       "\n",
       "                                                Name     Sex   Age  SibSp  \\\n",
       "0                            Braund, Mr. Owen Harris    male  22.0      1   \n",
       "1  Cumings, Mrs. John Bradley (Florence Briggs Th...  female  38.0      1   \n",
       "2                             Heikkinen, Miss. Laina  female  26.0      0   \n",
       "3       Futrelle, Mrs. Jacques Heath (Lily May Peel)  female  35.0      1   \n",
       "4                           Allen, Mr. William Henry    male  35.0      0   \n",
       "\n",
       "   Parch            Ticket     Fare Cabin Embarked  \n",
       "0      0         A/5 21171   7.2500   NaN        S  \n",
       "1      0          PC 17599  71.2833   C85        C  \n",
       "2      0  STON/O2. 3101282   7.9250   NaN        S  \n",
       "3      0            113803  53.1000  C123        S  \n",
       "4      0            373450   8.0500   NaN        S  "
      ]
     },
     "execution_count": 31,
     "metadata": {},
     "output_type": "execute_result"
    }
   ],
   "source": [
    "import pandas as pd\n",
    "titanic = pd.read_csv('train.csv')\n",
    "titanic.head()"
   ]
  },
  {
   "cell_type": "markdown",
   "id": "bbf05d21",
   "metadata": {},
   "source": [
    "#### 2.How many passengers were in first class (Pclass=1) in the titanic dataset?\n"
   ]
  },
  {
   "cell_type": "code",
   "execution_count": 32,
   "id": "926c7b7f",
   "metadata": {},
   "outputs": [
    {
     "name": "stdout",
     "output_type": "stream",
     "text": [
      "Number of passengers in first class: 216\n"
     ]
    }
   ],
   "source": [
    "first_class=titanic[titanic['Pclass']==1]\n",
    "num_first_class=len(first_class)\n",
    "print(f\"Number of passengers in first class: {num_first_class}\")"
   ]
  },
  {
   "cell_type": "markdown",
   "id": "d8bf08b4",
   "metadata": {},
   "source": [
    "\n",
    "#### 3.Create a new column in the titanic dataset called \"is_alone\" which should be True if a passenger has no siblings/spouses or parents/children on board and False otherwise.\n"
   ]
  },
  {
   "cell_type": "code",
   "execution_count": 33,
   "id": "941c9dee",
   "metadata": {},
   "outputs": [
    {
     "name": "stdout",
     "output_type": "stream",
     "text": [
      "   PassengerId  Survived  Pclass  \\\n",
      "0            1         0       3   \n",
      "1            2         1       1   \n",
      "2            3         1       3   \n",
      "3            4         1       1   \n",
      "4            5         0       3   \n",
      "\n",
      "                                                Name     Sex   Age  SibSp  \\\n",
      "0                            Braund, Mr. Owen Harris    male  22.0      1   \n",
      "1  Cumings, Mrs. John Bradley (Florence Briggs Th...  female  38.0      1   \n",
      "2                             Heikkinen, Miss. Laina  female  26.0      0   \n",
      "3       Futrelle, Mrs. Jacques Heath (Lily May Peel)  female  35.0      1   \n",
      "4                           Allen, Mr. William Henry    male  35.0      0   \n",
      "\n",
      "   Parch            Ticket     Fare Cabin Embarked  is_alone  \n",
      "0      0         A/5 21171   7.2500   NaN        S     False  \n",
      "1      0          PC 17599  71.2833   C85        C     False  \n",
      "2      0  STON/O2. 3101282   7.9250   NaN        S      True  \n",
      "3      0            113803  53.1000  C123        S     False  \n",
      "4      0            373450   8.0500   NaN        S      True  \n"
     ]
    }
   ],
   "source": [
    "titanic['is_alone']=(titanic['SibSp']+titanic['Parch'])==0\n",
    "print(titanic.head())"
   ]
  },
  {
   "cell_type": "markdown",
   "id": "bcde4c84",
   "metadata": {},
   "source": [
    "#### 4.Group the titanic dataset by \"Pclass\" and calculate the mean \"Age\" for each class.\n"
   ]
  },
  {
   "cell_type": "code",
   "execution_count": 34,
   "id": "8e1a1822",
   "metadata": {},
   "outputs": [
    {
     "name": "stdout",
     "output_type": "stream",
     "text": [
      "Pclass\n",
      "1    38.23\n",
      "2    29.88\n",
      "3    25.14\n",
      "Name: Age, dtype: float64\n"
     ]
    }
   ],
   "source": [
    "import pandas as pd\n",
    "mean_age=titanic.groupby('Pclass')['Age'].mean().round(2) \n",
    "print(mean_age)\n",
    "\n",
    "# The mean age for passengers in first class (Pclass=1) is approximately 38.23 years.\n",
    "# The mean age for passengers in second class (Pclass=2) is approximately 29.88 years.\n",
    "# The mean age for passengers in third class (Pclass=3) is approximately 25.14 years."
   ]
  },
  {
   "cell_type": "markdown",
   "id": "db2e83da",
   "metadata": {},
   "source": [
    "#### 5.Sort the titanic dataset by \"Fare\" in descending order and display the first 10 rows."
   ]
  },
  {
   "cell_type": "code",
   "execution_count": 35,
   "id": "a8099e61",
   "metadata": {},
   "outputs": [
    {
     "name": "stdout",
     "output_type": "stream",
     "text": [
      "     PassengerId  Survived  Pclass                                   Name  \\\n",
      "258          259         1       1                       Ward, Miss. Anna   \n",
      "737          738         1       1                 Lesurer, Mr. Gustave J   \n",
      "679          680         1       1     Cardeza, Mr. Thomas Drake Martinez   \n",
      "88            89         1       1             Fortune, Miss. Mabel Helen   \n",
      "27            28         0       1         Fortune, Mr. Charles Alexander   \n",
      "341          342         1       1         Fortune, Miss. Alice Elizabeth   \n",
      "438          439         0       1                      Fortune, Mr. Mark   \n",
      "311          312         1       1             Ryerson, Miss. Emily Borie   \n",
      "742          743         1       1  Ryerson, Miss. Susan Parker \"Suzette\"   \n",
      "118          119         0       1               Baxter, Mr. Quigg Edmond   \n",
      "\n",
      "        Sex   Age  SibSp  Parch    Ticket      Fare            Cabin Embarked  \\\n",
      "258  female  35.0      0      0  PC 17755  512.3292              NaN        C   \n",
      "737    male  35.0      0      0  PC 17755  512.3292             B101        C   \n",
      "679    male  36.0      0      1  PC 17755  512.3292      B51 B53 B55        C   \n",
      "88   female  23.0      3      2     19950  263.0000      C23 C25 C27        S   \n",
      "27     male  19.0      3      2     19950  263.0000      C23 C25 C27        S   \n",
      "341  female  24.0      3      2     19950  263.0000      C23 C25 C27        S   \n",
      "438    male  64.0      1      4     19950  263.0000      C23 C25 C27        S   \n",
      "311  female  18.0      2      2  PC 17608  262.3750  B57 B59 B63 B66        C   \n",
      "742  female  21.0      2      2  PC 17608  262.3750  B57 B59 B63 B66        C   \n",
      "118    male  24.0      0      1  PC 17558  247.5208          B58 B60        C   \n",
      "\n",
      "     is_alone  \n",
      "258      True  \n",
      "737      True  \n",
      "679     False  \n",
      "88      False  \n",
      "27      False  \n",
      "341     False  \n",
      "438     False  \n",
      "311     False  \n",
      "742     False  \n",
      "118     False  \n"
     ]
    }
   ],
   "source": [
    "sort_by_fare=titanic.sort_values(by='Fare',ascending=False)\n",
    "print(sort_by_fare.head(10))"
   ]
  },
  {
   "cell_type": "markdown",
   "id": "69b2c83e",
   "metadata": {},
   "source": [
    "#### 6.Create a new column in the titanic dataset called \"fare_category\" which should have the value \"cheap\" if the fare is less than 10, \"moderate\" if the fare is between 10 and 50, and \"expensive\" if the fare is greater than 50."
   ]
  },
  {
   "cell_type": "code",
   "execution_count": 36,
   "id": "a90cea42",
   "metadata": {},
   "outputs": [
    {
     "name": "stdout",
     "output_type": "stream",
     "text": [
      "   PassengerId  Survived  Pclass  \\\n",
      "0            1         0       3   \n",
      "1            2         1       1   \n",
      "2            3         1       3   \n",
      "3            4         1       1   \n",
      "4            5         0       3   \n",
      "\n",
      "                                                Name     Sex   Age  SibSp  \\\n",
      "0                            Braund, Mr. Owen Harris    male  22.0      1   \n",
      "1  Cumings, Mrs. John Bradley (Florence Briggs Th...  female  38.0      1   \n",
      "2                             Heikkinen, Miss. Laina  female  26.0      0   \n",
      "3       Futrelle, Mrs. Jacques Heath (Lily May Peel)  female  35.0      1   \n",
      "4                           Allen, Mr. William Henry    male  35.0      0   \n",
      "\n",
      "   Parch            Ticket     Fare Cabin Embarked  is_alone fare_category  \n",
      "0      0         A/5 21171   7.2500   NaN        S     False         cheap  \n",
      "1      0          PC 17599  71.2833   C85        C     False     expensive  \n",
      "2      0  STON/O2. 3101282   7.9250   NaN        S      True         cheap  \n",
      "3      0            113803  53.1000  C123        S     False     expensive  \n",
      "4      0            373450   8.0500   NaN        S      True         cheap  \n"
     ]
    }
   ],
   "source": [
    "import pandas as pd\n",
    "titanic['fare_category']=pd.cut(titanic['Fare'],bins=[0,10,50,float('inf')],labels=['cheap','moderate','expensive'])\n",
    "print(titanic.head())      # pandas.cut() function is used to separate continuous data into discrete intervals (or bins). # 'inf'=infinity,# bins parameter determines the criteria for binning the data."
   ]
  },
  {
   "cell_type": "markdown",
   "id": "58db6881",
   "metadata": {},
   "source": [
    "#### 7.Filter the titanic dataset to only include passengers who are male and survived.\n"
   ]
  },
  {
   "cell_type": "code",
   "execution_count": 37,
   "id": "4616f6e0",
   "metadata": {},
   "outputs": [
    {
     "name": "stdout",
     "output_type": "stream",
     "text": [
      "    PassengerId  Survived  Pclass                          Name   Sex   Age  \\\n",
      "17           18         1       2  Williams, Mr. Charles Eugene  male   NaN   \n",
      "21           22         1       2         Beesley, Mr. Lawrence  male  34.0   \n",
      "23           24         1       1  Sloper, Mr. William Thompson  male  28.0   \n",
      "36           37         1       3              Mamee, Mr. Hanna  male   NaN   \n",
      "55           56         1       1             Woolner, Mr. Hugh  male   NaN   \n",
      "\n",
      "    SibSp  Parch  Ticket     Fare Cabin Embarked  is_alone fare_category  \n",
      "17      0      0  244373  13.0000   NaN        S      True      moderate  \n",
      "21      0      0  248698  13.0000   D56        S      True      moderate  \n",
      "23      0      0  113788  35.5000    A6        S      True      moderate  \n",
      "36      0      0    2677   7.2292   NaN        C      True         cheap  \n",
      "55      0      0   19947  35.5000   C52        S      True      moderate  \n"
     ]
    }
   ],
   "source": [
    "import pandas as pd\n",
    "male_survived=titanic[(titanic['Sex']=='male') & (titanic['Survived']==1)]\n",
    "print(male_survived.head())"
   ]
  },
  {
   "cell_type": "markdown",
   "id": "0bccfca5",
   "metadata": {},
   "source": [
    "#### 8.Drop the \"Cabin\" column from the titanic dataset."
   ]
  },
  {
   "cell_type": "code",
   "execution_count": 38,
   "id": "39c3875c",
   "metadata": {},
   "outputs": [
    {
     "name": "stdout",
     "output_type": "stream",
     "text": [
      "   PassengerId  Survived  Pclass  \\\n",
      "0            1         0       3   \n",
      "1            2         1       1   \n",
      "2            3         1       3   \n",
      "3            4         1       1   \n",
      "4            5         0       3   \n",
      "\n",
      "                                                Name     Sex   Age  SibSp  \\\n",
      "0                            Braund, Mr. Owen Harris    male  22.0      1   \n",
      "1  Cumings, Mrs. John Bradley (Florence Briggs Th...  female  38.0      1   \n",
      "2                             Heikkinen, Miss. Laina  female  26.0      0   \n",
      "3       Futrelle, Mrs. Jacques Heath (Lily May Peel)  female  35.0      1   \n",
      "4                           Allen, Mr. William Henry    male  35.0      0   \n",
      "\n",
      "   Parch            Ticket     Fare Embarked  is_alone fare_category  \n",
      "0      0         A/5 21171   7.2500        S     False         cheap  \n",
      "1      0          PC 17599  71.2833        C     False     expensive  \n",
      "2      0  STON/O2. 3101282   7.9250        S      True         cheap  \n",
      "3      0            113803  53.1000        S     False     expensive  \n",
      "4      0            373450   8.0500        S      True         cheap  \n"
     ]
    }
   ],
   "source": [
    "import pandas as pd\n",
    "titanic.drop(columns=['Cabin'],inplace=True) #When you use inplace=True in a Pandas operation, it modifies the original DataFrame in place (i.e., directly), without creating a new copy.\n",
    "print(titanic.head())"
   ]
  },
  {
   "cell_type": "code",
   "execution_count": null,
   "id": "8ffec3d8",
   "metadata": {},
   "outputs": [],
   "source": []
  },
  {
   "cell_type": "code",
   "execution_count": null,
   "id": "67fff3ef",
   "metadata": {},
   "outputs": [],
   "source": []
  }
 ],
 "metadata": {
  "kernelspec": {
   "display_name": "Python 3 (ipykernel)",
   "language": "python",
   "name": "python3"
  },
  "language_info": {
   "codemirror_mode": {
    "name": "ipython",
    "version": 3
   },
   "file_extension": ".py",
   "mimetype": "text/x-python",
   "name": "python",
   "nbconvert_exporter": "python",
   "pygments_lexer": "ipython3",
   "version": "3.11.5"
  }
 },
 "nbformat": 4,
 "nbformat_minor": 5
}
